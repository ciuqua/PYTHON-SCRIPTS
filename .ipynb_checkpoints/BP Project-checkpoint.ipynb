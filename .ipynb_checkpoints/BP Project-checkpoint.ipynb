{
 "cells": [
  {
   "cell_type": "code",
   "execution_count": null,
   "metadata": {},
   "outputs": [],
   "source": [
    "# import modules\n",
    "\n",
    "import pandas as pd\n",
    "import re\n",
    "from datetime import datetime"
   ]
  },
  {
   "cell_type": "code",
   "execution_count": null,
   "metadata": {},
   "outputs": [],
   "source": [
    "# input patient's ID number from your Excel database\n",
    "\n",
    "patient_No=input(\"Enter patient's ID No: \")"
   ]
  },
  {
   "cell_type": "code",
   "execution_count": null,
   "metadata": {},
   "outputs": [],
   "source": [
    "# input patient's text message with home BP readings\n",
    "\n",
    "BP_text_str=input(\"Enter patient's text message with BP readings: \")"
   ]
  },
  {
   "cell_type": "code",
   "execution_count": null,
   "metadata": {},
   "outputs": [],
   "source": [
    "print(\"Patient: \"+ patient_No)\n",
    "print(\"BP readings: \"+ BP_text_str)"
   ]
  },
  {
   "cell_type": "code",
   "execution_count": null,
   "metadata": {},
   "outputs": [],
   "source": [
    "# extract numbers from BP_text_str\n",
    "\n",
    "numbers_BP_text_str=re.findall('[0-9]+', BP_text_str)\n",
    "print(numbers_BP_text_str)"
   ]
  },
  {
   "cell_type": "code",
   "execution_count": null,
   "metadata": {},
   "outputs": [],
   "source": [
    "# converting list of strings to int using list comprehension\n",
    "\n",
    "numbers_BP_text = [int(i) for i in numbers_BP_text_str]\n",
    "print(numbers_BP_text)"
   ]
  },
  {
   "cell_type": "code",
   "execution_count": null,
   "metadata": {},
   "outputs": [],
   "source": [
    "# divide by new line\n",
    "# I use list comprehension instead of writing a function, \n",
    "# though it's a good idea to encapsulate operations like this in named functions\n",
    "# so that your code is easier to understand. \n",
    "\n",
    "numbers_BP_text_byline=[numbers_BP_text[i:i + 8] for i in range(0, len(numbers_BP_text), 8)]\n",
    "print(numbers_BP_text_byline)"
   ]
  },
  {
   "cell_type": "code",
   "execution_count": null,
   "metadata": {},
   "outputs": [],
   "source": [
    "# appending columns headers\n",
    "\n",
    "numbers_BP_text_byline_headers=['Day','Month', 'Year', 'Hour', 'Minute', 'sBP', 'dBP', 'HR']\n",
    "numbers_BP_text_byline_full=[numbers_BP_text_byline_headers]+numbers_BP_text_byline\n",
    "\n",
    "print(numbers_BP_text_byline_full)\n"
   ]
  },
  {
   "cell_type": "code",
   "execution_count": null,
   "metadata": {},
   "outputs": [],
   "source": [
    "# list of lists to dataframe -numbers_BP_text_byline\n",
    "\n",
    "BPs_snippet_full=pd.DataFrame(numbers_BP_text_byline_full)\n",
    "BPs_snippet_full.head()"
   ]
  },
  {
   "cell_type": "code",
   "execution_count": null,
   "metadata": {},
   "outputs": [],
   "source": [
    "# add another column - 'pt ID' - pt ID number \n",
    "\n",
    "BPs_snippet_full['pt ID']=patient_No"
   ]
  },
  {
   "cell_type": "code",
   "execution_count": null,
   "metadata": {},
   "outputs": [],
   "source": [
    "# in DataFrame change d/m/y to date.time format. \n",
    "# do the same with hour/min"
   ]
  },
  {
   "cell_type": "code",
   "execution_count": null,
   "metadata": {},
   "outputs": [],
   "source": [
    "# append the snippet to the main BP_database"
   ]
  },
  {
   "cell_type": "code",
   "execution_count": null,
   "metadata": {},
   "outputs": [],
   "source": [
    "# execute the whole code at one go "
   ]
  }
 ],
 "metadata": {
  "kernelspec": {
   "display_name": "Python 3",
   "language": "python",
   "name": "python3"
  },
  "language_info": {
   "codemirror_mode": {
    "name": "ipython",
    "version": 3
   },
   "file_extension": ".py",
   "mimetype": "text/x-python",
   "name": "python",
   "nbconvert_exporter": "python",
   "pygments_lexer": "ipython3",
   "version": "3.8.5"
  }
 },
 "nbformat": 4,
 "nbformat_minor": 4
}
