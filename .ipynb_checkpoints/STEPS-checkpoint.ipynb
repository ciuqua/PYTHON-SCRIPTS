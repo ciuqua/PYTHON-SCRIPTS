{
 "cells": [
  {
   "cell_type": "code",
   "execution_count": 7,
   "metadata": {},
   "outputs": [
    {
     "data": {
      "text/html": [
       "<div>\n",
       "<style scoped>\n",
       "    .dataframe tbody tr th:only-of-type {\n",
       "        vertical-align: middle;\n",
       "    }\n",
       "\n",
       "    .dataframe tbody tr th {\n",
       "        vertical-align: top;\n",
       "    }\n",
       "\n",
       "    .dataframe thead th {\n",
       "        text-align: right;\n",
       "    }\n",
       "</style>\n",
       "<table border=\"1\" class=\"dataframe\">\n",
       "  <thead>\n",
       "    <tr style=\"text-align: right;\">\n",
       "      <th></th>\n",
       "      <th>PARTICIPANT</th>\n",
       "      <th>DATE</th>\n",
       "      <th>STEPS</th>\n",
       "    </tr>\n",
       "  </thead>\n",
       "  <tbody>\n",
       "    <tr>\n",
       "      <th>0</th>\n",
       "      <td>Ali C</td>\n",
       "      <td>14/06/2020</td>\n",
       "      <td>2,875</td>\n",
       "    </tr>\n",
       "    <tr>\n",
       "      <th>1</th>\n",
       "      <td>Elisa</td>\n",
       "      <td>14/06/2020</td>\n",
       "      <td>9,747</td>\n",
       "    </tr>\n",
       "    <tr>\n",
       "      <th>2</th>\n",
       "      <td>Chris C</td>\n",
       "      <td>14/06/2020</td>\n",
       "      <td>11,402</td>\n",
       "    </tr>\n",
       "    <tr>\n",
       "      <th>3</th>\n",
       "      <td>Annabelle</td>\n",
       "      <td>14/06/2020</td>\n",
       "      <td>11,588</td>\n",
       "    </tr>\n",
       "    <tr>\n",
       "      <th>4</th>\n",
       "      <td>Tricia</td>\n",
       "      <td>14/06/2020</td>\n",
       "      <td>12,939</td>\n",
       "    </tr>\n",
       "    <tr>\n",
       "      <th>...</th>\n",
       "      <td>...</td>\n",
       "      <td>...</td>\n",
       "      <td>...</td>\n",
       "    </tr>\n",
       "    <tr>\n",
       "      <th>1669</th>\n",
       "      <td>Chris C</td>\n",
       "      <td>31/12/2020</td>\n",
       "      <td>10,688</td>\n",
       "    </tr>\n",
       "    <tr>\n",
       "      <th>1670</th>\n",
       "      <td>Stacy</td>\n",
       "      <td>01/01/2021</td>\n",
       "      <td>4,981</td>\n",
       "    </tr>\n",
       "    <tr>\n",
       "      <th>1671</th>\n",
       "      <td>Chris C</td>\n",
       "      <td>01/01/2021</td>\n",
       "      <td>11,106</td>\n",
       "    </tr>\n",
       "    <tr>\n",
       "      <th>1672</th>\n",
       "      <td>Stacy</td>\n",
       "      <td>02/01/2021</td>\n",
       "      <td>13,380</td>\n",
       "    </tr>\n",
       "    <tr>\n",
       "      <th>1673</th>\n",
       "      <td>Chris C</td>\n",
       "      <td>02/01/2021</td>\n",
       "      <td>14,417</td>\n",
       "    </tr>\n",
       "  </tbody>\n",
       "</table>\n",
       "<p>1674 rows × 3 columns</p>\n",
       "</div>"
      ],
      "text/plain": [
       "     PARTICIPANT        DATE   STEPS\n",
       "0          Ali C  14/06/2020   2,875\n",
       "1          Elisa  14/06/2020   9,747\n",
       "2        Chris C  14/06/2020  11,402\n",
       "3      Annabelle  14/06/2020  11,588\n",
       "4         Tricia  14/06/2020  12,939\n",
       "...          ...         ...     ...\n",
       "1669     Chris C  31/12/2020  10,688\n",
       "1670       Stacy  01/01/2021   4,981\n",
       "1671     Chris C  01/01/2021  11,106\n",
       "1672       Stacy  02/01/2021  13,380\n",
       "1673     Chris C  02/01/2021  14,417\n",
       "\n",
       "[1674 rows x 3 columns]"
      ]
     },
     "execution_count": 7,
     "metadata": {},
     "output_type": "execute_result"
    }
   ],
   "source": [
    "import pandas as pd\n",
    "\n",
    "# modify csv file putting column names in the first row\n",
    "\n",
    "#STEPS has been recorded in STEPS directory pay attention on the syntax in brackets \n",
    "steps=pd.read_csv(r'C:\\Users\\ciuqu\\PYTHON\\PYTHON-SCRIPTS\\STEPS\\STEPs_csv.csv')\n",
    "steps"
   ]
  },
  {
   "cell_type": "code",
   "execution_count": 6,
   "metadata": {},
   "outputs": [
    {
     "name": "stdout",
     "output_type": "stream",
     "text": [
      "<class 'pandas.core.frame.DataFrame'>\n",
      "RangeIndex: 1764 entries, 0 to 1763\n",
      "Data columns (total 3 columns):\n",
      " #   Column      Non-Null Count  Dtype \n",
      "---  ------      --------------  ----- \n",
      " 0   Ali C       1673 non-null   object\n",
      " 1   14/06/2020  1673 non-null   object\n",
      " 2   2,875       1673 non-null   object\n",
      "dtypes: object(3)\n",
      "memory usage: 41.5+ KB\n"
     ]
    }
   ],
   "source": [
    "steps.info()"
   ]
  }
 ],
 "metadata": {
  "kernelspec": {
   "display_name": "Python 3",
   "language": "python",
   "name": "python3"
  },
  "language_info": {
   "codemirror_mode": {
    "name": "ipython",
    "version": 3
   },
   "file_extension": ".py",
   "mimetype": "text/x-python",
   "name": "python",
   "nbconvert_exporter": "python",
   "pygments_lexer": "ipython3",
   "version": "3.8.5"
  }
 },
 "nbformat": 4,
 "nbformat_minor": 4
}
